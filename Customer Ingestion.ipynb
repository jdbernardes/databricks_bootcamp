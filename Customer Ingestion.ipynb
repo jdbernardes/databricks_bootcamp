{
 "cells": [
  {
   "cell_type": "code",
   "execution_count": 0,
   "metadata": {
    "application/vnd.databricks.v1+cell": {
     "cellMetadata": {
      "byteLimit": 2048000,
      "implicitDf": true,
      "rowLimit": 10000
     },
     "inputWidgets": {},
     "nuid": "98a375d6-12a5-4523-8ec3-fd65da42c2cd",
     "showTitle": false,
     "tableResultSettingsMap": {},
     "title": ""
    }
   },
   "outputs": [],
   "source": [
    "# %sql\n",
    "# -- Tabela de origem: Lê os arquivos JSON do bucket S3\n",
    "# CREATE OR REFRESH STREAMING LIVE TABLE bronze_customers\n",
    "# COMMENT \"Dados brutos dos novos clientes do bucket S3\"\n",
    "# AS SELECT *\n",
    "# FROM cloud_files(\n",
    "#     \"s3a://databricks-bootcamp-julio\",\n",
    "#     \"json\",\n",
    "#     MAP(\n",
    "#         \"inferSchema\", \"false\",\n",
    "#         \"multiline\", \"true\",\n",
    "#         \"cloudFiles.schemaHints\", \"customer_id STRING, name STRING, email STRING, btc_balance DOUBLE, usd_balance DOUBLE, last_update TIMESTAMP\",\n",
    "#         \"cloudFiles.schemaLocation\", \"/FileStore/autoloader_schemas/bronze_customers\"\n",
    "#     )\n",
    "# );"
   ]
  },
  {
   "cell_type": "code",
   "execution_count": 0,
   "metadata": {
    "application/vnd.databricks.v1+cell": {
     "cellMetadata": {
      "byteLimit": 2048000,
      "rowLimit": 10000
     },
     "inputWidgets": {},
     "nuid": "55ea36bd-4032-40b3-ab2d-363278191aca",
     "showTitle": false,
     "tableResultSettingsMap": {},
     "title": ""
    }
   },
   "outputs": [],
   "source": [
    "\n",
    "from pyspark.sql.types import StructType, StructField, StringType, DoubleType, TimestampType\n",
    "\n",
    "s3_bucket_path = dbutils.secrets.get(scope=\"databricks_bootcamp\", key=\"PUBLIC_S3\")\n",
    "\n",
    "# Defining my schema\n",
    "customer_schema = StructType([\n",
    "    StructField(\"customer_id\", StringType(), True),   # customer_id como String\n",
    "    StructField(\"name\", StringType(), True),          # name como String\n",
    "    StructField(\"email\", StringType(), True),         # email como String\n",
    "    StructField(\"btc_balance\", DoubleType(), True),   # btc_balance como Double\n",
    "    StructField(\"usd_balance\", DoubleType(), True),   # usd_balance como Double\n",
    "    StructField(\"last_update\", TimestampType(), True) # last_update como Timestamp\n",
    "])\n",
    "\n",
    "print(f\"Lendo arquivos JSON do caminho S3: {s3_bucket_path}\")\n",
    "try:\n",
    "    df_customers = spark.read \\\n",
    "        .format(\"json\") \\\n",
    "        .option(\"multiline\", \"true\") \\\n",
    "        .schema(customer_schema) \\\n",
    "        .load(s3_bucket_path)\n",
    "\n",
    "    print(\"Pré-visualização dos dados lidos:\")\n",
    "    df_customers.show(5, truncate=False)\n",
    "    df_customers.printSchema()\n",
    "\n",
    "    # Saving Data\n",
    "    table_name = \"bronze.customers\"\n",
    "    print(f\"Saving data on Delta table: {table_name}\")\n",
    "\n",
    "    df_customers.write \\\n",
    "        .format(\"delta\") \\\n",
    "        .mode(\"overwrite\") \\\n",
    "        .saveAsTable(table_name)\n",
    "\n",
    "    print(f\"Data Saved'{table_name}'.\")\n",
    "\n",
    "    # 4. Verificando a tabela Delta criada\n",
    "    print(f\"Checking Data on the Table'{table_name}':\")\n",
    "    display(spark.sql(f\"SELECT * FROM {table_name} LIMIT 10\"))\n",
    "\n",
    "except Exception as e:\n",
    "    print(f\"Ocorreu um erro ao processar os dados: {e}\")"
   ]
  },
  {
   "cell_type": "code",
   "execution_count": 0,
   "metadata": {
    "application/vnd.databricks.v1+cell": {
     "cellMetadata": {},
     "inputWidgets": {},
     "nuid": "9f1745da-5c74-416d-86e2-2fa99cb3e284",
     "showTitle": false,
     "tableResultSettingsMap": {},
     "title": ""
    }
   },
   "outputs": [],
   "source": []
  }
 ],
 "metadata": {
  "application/vnd.databricks.v1+notebook": {
   "computePreferences": null,
   "dashboards": [],
   "environmentMetadata": {
    "base_environment": "",
    "environment_version": "2"
   },
   "inputWidgetPreferences": null,
   "language": "python",
   "notebookMetadata": {
    "mostRecentlyExecutedCommandWithImplicitDF": {
     "commandId": -1,
     "dataframes": [
      "_sqldf"
     ]
    },
    "pythonIndentUnit": 4
   },
   "notebookName": "Customer Ingestion",
   "widgets": {}
  },
  "language_info": {
   "name": "python"
  }
 },
 "nbformat": 4,
 "nbformat_minor": 0
}
