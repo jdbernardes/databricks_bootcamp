{
 "cells": [
  {
   "cell_type": "code",
   "execution_count": 0,
   "metadata": {
    "application/vnd.databricks.v1+cell": {
     "cellMetadata": {
      "byteLimit": 2048000,
      "implicitDf": true,
      "rowLimit": 10000
     },
     "inputWidgets": {},
     "nuid": "8c797adb-185b-4e5a-8e75-a433d0539020",
     "showTitle": false,
     "tableResultSettingsMap": {},
     "title": ""
    }
   },
   "outputs": [],
   "source": [
    "%sql\n",
    "MERGE INTO gold.transaction AS g\n",
    "USING (\n",
    "    WITH btc_price AS (\n",
    "        SELECT \n",
    "            datetime, \n",
    "            amount,\n",
    "            LAG(datetime) OVER (ORDER BY datetime) AS prev_timestamp\n",
    "        FROM silver.bitcoin_price\n",
    "    )\n",
    "    SELECT \n",
    "        t.transaction_id,\n",
    "        t.customer_id,\n",
    "        t.transaction_type,\n",
    "        t.btc_amount,\n",
    "        t.transaction_date,\n",
    "        ROUND(\n",
    "            CASE \n",
    "                WHEN t.transaction_type = 'compra' THEN (t.btc_amount * p.amount) * -1  \n",
    "                ELSE (t.btc_amount * p.amount)  \n",
    "            END, 2\n",
    "        ) AS transaction_value_in_usd\n",
    "    FROM silver.transactions t\n",
    "    JOIN btc_price p\n",
    "        ON t.transaction_date >= COALESCE(p.prev_timestamp, p.datetime)\n",
    "        AND t.transaction_date <= p.datetime\n",
    ") AS s\n",
    "ON g.transaction_id = s.transaction_id\n",
    "WHEN MATCHED AND (\n",
    "    g.customer_id <> s.customer_id OR\n",
    "    g.transaction_type <> s.transaction_type OR\n",
    "    g.btc_amount <> s.btc_amount OR\n",
    "    g.transaction_date <> s.transaction_date OR\n",
    "    g.transaction_value_in_usd <> s.transaction_value_in_usd\n",
    ")\n",
    "THEN UPDATE SET *\n",
    "WHEN NOT MATCHED THEN INSERT *;"
   ]
  },
  {
   "cell_type": "code",
   "execution_count": 0,
   "metadata": {
    "application/vnd.databricks.v1+cell": {
     "cellMetadata": {},
     "inputWidgets": {},
     "nuid": "9f2a581c-a51c-4713-95d5-77efa254de2f",
     "showTitle": false,
     "tableResultSettingsMap": {},
     "title": ""
    }
   },
   "outputs": [],
   "source": []
  }
 ],
 "metadata": {
  "application/vnd.databricks.v1+notebook": {
   "computePreferences": null,
   "dashboards": [],
   "environmentMetadata": {
    "base_environment": "",
    "environment_version": "2"
   },
   "inputWidgetPreferences": null,
   "language": "python",
   "notebookMetadata": {
    "mostRecentlyExecutedCommandWithImplicitDF": {
     "commandId": 8124359359367828,
     "dataframes": [
      "_sqldf"
     ]
    },
    "pythonIndentUnit": 4
   },
   "notebookName": "Update Merge Gold Transactions",
   "widgets": {}
  },
  "language_info": {
   "name": "python"
  }
 },
 "nbformat": 4,
 "nbformat_minor": 0
}
