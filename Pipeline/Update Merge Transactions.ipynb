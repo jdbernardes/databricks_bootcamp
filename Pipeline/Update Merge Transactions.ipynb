{
 "cells": [
  {
   "cell_type": "markdown",
   "metadata": {
    "application/vnd.databricks.v1+cell": {
     "cellMetadata": {},
     "inputWidgets": {},
     "nuid": "97836875-6355-47f9-a8ff-dd52cd70a2c4",
     "showTitle": false,
     "tableResultSettingsMap": {},
     "title": ""
    }
   },
   "source": [
    "## Update Merge"
   ]
  },
  {
   "cell_type": "markdown",
   "metadata": {
    "application/vnd.databricks.v1+cell": {
     "cellMetadata": {},
     "inputWidgets": {},
     "nuid": "39cdb34d-18d8-43db-8f06-45077ff33091",
     "showTitle": false,
     "tableResultSettingsMap": {},
     "title": ""
    }
   },
   "source": [
    "In the update Merge approach I am just adding the new records if any.\n",
    "This can make sense if you have a big table with a lot of new records being created every day, this way you can just send the delta.\n",
    "Notice that we use this \"WHEN NOT MATCHED\""
   ]
  },
  {
   "cell_type": "code",
   "execution_count": 0,
   "metadata": {
    "application/vnd.databricks.v1+cell": {
     "cellMetadata": {},
     "inputWidgets": {},
     "nuid": "28545081-74c5-4b44-8757-ac7d2204f06c",
     "showTitle": false,
     "tableResultSettingsMap": {},
     "title": ""
    }
   },
   "outputs": [],
   "source": [
    "%sql\n",
    "MERGE INTO silver.transactions AS target\n",
    "USING (\n",
    "  SELECT \n",
    "    transaction_id,\n",
    "    customer_id,\n",
    "    transaction_type,\n",
    "    btc_amount,\n",
    "    transaction_date\n",
    "  FROM bronze.transactions\n",
    "  WHERE transaction_date > '2025-06-25'\n",
    ") AS source\n",
    "ON target.transaction_id = source.transaction_id\n",
    "WHEN NOT MATCHED THEN\n",
    "  INSERT (transaction_id, customer_id, transaction_type, btc_amount, transaction_date)\n",
    "  VALUES (source.transaction_id, source.customer_id, source.transaction_type, source.btc_amount, source.transaction_date)"
   ]
  }
 ],
 "metadata": {
  "application/vnd.databricks.v1+notebook": {
   "computePreferences": null,
   "dashboards": [],
   "environmentMetadata": {
    "base_environment": "",
    "environment_version": "2"
   },
   "inputWidgetPreferences": null,
   "language": "python",
   "notebookMetadata": {
    "pythonIndentUnit": 4
   },
   "notebookName": "Update Merge Transactions",
   "widgets": {}
  },
  "language_info": {
   "name": "python"
  }
 },
 "nbformat": 4,
 "nbformat_minor": 0
}
