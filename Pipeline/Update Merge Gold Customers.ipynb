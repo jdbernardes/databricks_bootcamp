{
 "cells": [
  {
   "cell_type": "code",
   "execution_count": 0,
   "metadata": {
    "application/vnd.databricks.v1+cell": {
     "cellMetadata": {
      "byteLimit": 2048000,
      "implicitDf": true,
      "rowLimit": 10000
     },
     "inputWidgets": {},
     "nuid": "2d065d86-a112-4c5a-911b-c9a0707e4be2",
     "showTitle": false,
     "tableResultSettingsMap": {},
     "title": ""
    }
   },
   "outputs": [],
   "source": [
    "%sql\n",
    "MERGE INTO gold.customers AS target\n",
    "USING (\n",
    "    SELECT \n",
    "        c.customer_id,\n",
    "        c.name,\n",
    "        c.email,\n",
    "        c.usd_balance_original,  -- Mantendo saldo original de USD\n",
    "        c.btc_balance_original,  -- Mantendo saldo original de BTC\n",
    "        -- Calculando saldo atualizado de BTC considerando compras e vendas\n",
    "        c.btc_balance_original + COALESCE(SUM(\n",
    "            CASE \n",
    "                WHEN t.transaction_type = 'compra' THEN t.btc_amount  -- Se comprou, adiciona BTC\n",
    "                WHEN t.transaction_type = 'venda' THEN -t.btc_amount  -- Se vendeu, reduz BTC\n",
    "                ELSE 0\n",
    "            END\n",
    "        ), 0) AS btc_balance_final,\n",
    "        COUNT(t.transaction_id) AS total_transactions,\n",
    "        -- Calculando total de USD gasto somando transaction_value_in_usd com usd_balance_original\n",
    "        c.usd_balance_original + COALESCE(SUM(t.transaction_value_in_usd), 0) AS usd_balance_final\n",
    "    FROM silver.customers c\n",
    "    LEFT JOIN gold.transaction t ON c.customer_id = t.customer_id\n",
    "    GROUP BY c.customer_id, c.name, c.email, c.usd_balance_original, c.btc_balance_original\n",
    ") AS source\n",
    "ON target.customer_id = source.customer_id\n",
    "WHEN MATCHED THEN\n",
    "  UPDATE SET\n",
    "    target.name = source.name,\n",
    "    target.email = source.email,\n",
    "    target.usd_balance_original = source.usd_balance_original,\n",
    "    target.btc_balance_original = source.btc_balance_original,\n",
    "    target.btc_balance_final = source.btc_balance_final,\n",
    "    target.total_transactions = source.total_transactions,\n",
    "    target.usd_balance_final = source.usd_balance_final\n",
    "WHEN NOT MATCHED\n",
    "  THEN INSERT (customer_id, name, email, usd_balance_original, btc_balance_original, btc_balance_final, total_transactions, usd_balance_final)\n",
    "  VALUES (source.customer_id, source.name, source.email, source.usd_balance_original, source.btc_balance_original, source.btc_balance_final, source.total_transactions, source.usd_balance_final);"
   ]
  },
  {
   "cell_type": "code",
   "execution_count": 0,
   "metadata": {
    "application/vnd.databricks.v1+cell": {
     "cellMetadata": {},
     "inputWidgets": {},
     "nuid": "1cd78492-1138-4eb3-a4b0-f1b1d7388e40",
     "showTitle": false,
     "tableResultSettingsMap": {},
     "title": ""
    }
   },
   "outputs": [],
   "source": []
  }
 ],
 "metadata": {
  "application/vnd.databricks.v1+notebook": {
   "computePreferences": null,
   "dashboards": [],
   "environmentMetadata": {
    "base_environment": "",
    "environment_version": "2"
   },
   "inputWidgetPreferences": null,
   "language": "python",
   "notebookMetadata": {
    "mostRecentlyExecutedCommandWithImplicitDF": {
     "commandId": 8124359359367832,
     "dataframes": [
      "_sqldf"
     ]
    },
    "pythonIndentUnit": 4
   },
   "notebookName": "Update Merge Gold Customers",
   "widgets": {}
  },
  "language_info": {
   "name": "python"
  }
 },
 "nbformat": 4,
 "nbformat_minor": 0
}
